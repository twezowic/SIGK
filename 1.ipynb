{
 "cells": [
  {
   "cell_type": "code",
   "execution_count": 2,
   "metadata": {},
   "outputs": [],
   "source": [
    "import numpy as np\n",
    "from math import log10\n",
    "import cv2\n",
    "import os"
   ]
  },
  {
   "cell_type": "code",
   "execution_count": null,
   "metadata": {},
   "outputs": [],
   "source": [
    "def resize_and_crop(image_path, output_path):\n",
    "    img = cv2.imread(image_path)    \n",
    "    height, width = img.shape[:2]\n",
    "\n",
    "    # Get smaller edge\n",
    "    if width < height:\n",
    "        new_width = 256\n",
    "        new_height = int(height * (256 / width))\n",
    "    else:\n",
    "        new_height = 256\n",
    "        new_width = int(width * (256 / height))\n",
    "\n",
    "    # Resize\n",
    "    img_resized = cv2.resize(img, (new_width, new_height))\n",
    "\n",
    "    x_start = (new_width - 256) // 2\n",
    "    y_start = (new_height - 256) // 2\n",
    "\n",
    "    img_cropped = img_resized[y_start:y_start+256, x_start:x_start+256]\n",
    "    cv2.imwrite(output_path, img_cropped)\n",
    "\n",
    "def process_folder(input_folder, output_folder):\n",
    "    if not os.path.exists(output_folder):\n",
    "        os.makedirs(output_folder)\n",
    "\n",
    "    for filename in os.listdir(input_folder):\n",
    "        input_path = os.path.join(input_folder, filename)\n",
    "        output_path = os.path.join(output_folder, filename)\n",
    "        resize_and_crop(input_path, output_path)"
   ]
  },
  {
   "cell_type": "code",
   "execution_count": null,
   "metadata": {},
   "outputs": [],
   "source": [
    "input_folder = \"./data/raw/train\"\n",
    "output_folder = \"./data/intermediate/train\"\n",
    "process_folder(input_folder, output_folder)\n",
    "\n",
    "input_folder = \"./data/raw/valid\"\n",
    "output_folder = \"./data/intermediate/valid\"\n",
    "process_folder(input_folder, output_folder)"
   ]
  },
  {
   "cell_type": "code",
   "execution_count": 4,
   "metadata": {},
   "outputs": [],
   "source": [
    "def SNE(img1: np.ndarray, img2: np.ndarray):\n",
    "    img1_flatten, img2_flatten = img1.flatten(), img2.flatten()\n",
    "    result = 0\n",
    "    for pix1, pix2 in zip(img1_flatten, img2_flatten):\n",
    "        result += pow(pix1-pix2, 2)\n",
    "    return result\n",
    "\n",
    "def PSNR(img1: np.ndarray, img2: np.ndarray, MAX=255):\n",
    "    MSE = SNE(img1, img2) / img1.size\n",
    "    return 10 * log10(pow(MAX, 2)/MSE)\n",
    "\n",
    "def SSIM(img1: np.ndarray, img2: np.ndarray, L=255, k1=0.01, k2=0.03):\n",
    "    mean1 = np.mean(img1)\n",
    "    mean2 = np.mean(img2)\n",
    "    var1 = np.var(img1)\n",
    "    var2 = np.var(img2)\n",
    "    cov = np.cov(img1, img2)\n",
    "    c1 = (k1 * L) ** 2\n",
    "    c2 = (k2 * L) ** 2\n",
    "    return (2 * mean1 * mean2 + c1) * (2 * cov + c2) / ((pow(mean1, 2) * pow(mean2, 2) + c1) * (var1 * var2 + c2))\n",
    "\n",
    "def LPIPS(img1: np.ndarray, img2: np.ndarray): ...\n",
    "    # https://pypi.org/project/lpips/  "
   ]
  }
 ],
 "metadata": {
  "kernelspec": {
   "display_name": "Python 3",
   "language": "python",
   "name": "python3"
  },
  "language_info": {
   "codemirror_mode": {
    "name": "ipython",
    "version": 3
   },
   "file_extension": ".py",
   "mimetype": "text/x-python",
   "name": "python",
   "nbconvert_exporter": "python",
   "pygments_lexer": "ipython3",
   "version": "3.12.3"
  }
 },
 "nbformat": 4,
 "nbformat_minor": 2
}
