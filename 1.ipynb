{
 "cells": [
  {
   "cell_type": "code",
   "execution_count": 1,
   "metadata": {},
   "outputs": [],
   "source": [
    "import numpy as np\n",
    "from math import log10\n",
    "import cv2\n",
    "import os\n",
    "\n",
    "from torch.utils.data import Dataset, DataLoader\n",
    "import torch\n",
    "import torch.nn as nn\n",
    "import matplotlib.pyplot as plt\n",
    "import torch.optim as optim\n",
    "from torchvision.transforms import ToTensor, Compose"
   ]
  },
  {
   "cell_type": "code",
   "execution_count": 2,
   "metadata": {},
   "outputs": [],
   "source": [
    "def resize_and_crop(image_path, output_path, new_size=256):\n",
    "    img = cv2.imread(image_path)    \n",
    "    height, width = img.shape[:2]\n",
    "\n",
    "    # Get smaller edge\n",
    "    mini = min(height, width)\n",
    "    scale = mini / new_size\n",
    "\n",
    "    # Resize\n",
    "    img_resized = cv2.resize(img, (int(width/scale), int(height/scale)))\n",
    "\n",
    "    new_height, new_width = img_resized.shape[:2]\n",
    "\n",
    "    x_start = (new_width - new_size) // 2\n",
    "    y_start = (new_height - new_size) // 2\n",
    "\n",
    "    img_cropped = img_resized[y_start:y_start+new_size, x_start:x_start+new_size]\n",
    "    \n",
    "    cv2.imwrite(output_path, img_cropped)\n",
    "\n",
    "def process_folder(input_folder, output_folder, new_size=256):\n",
    "    if not os.path.exists(output_folder):\n",
    "        os.makedirs(output_folder)\n",
    "\n",
    "    for filename in os.listdir(input_folder):\n",
    "        input_path = os.path.join(input_folder, filename)\n",
    "        output_path = os.path.join(output_folder, filename)\n",
    "        resize_and_crop(input_path, output_path, new_size=new_size)"
   ]
  },
  {
   "cell_type": "code",
   "execution_count": 3,
   "metadata": {},
   "outputs": [],
   "source": [
    "input_folder = \"./data/raw/train\"\n",
    "output_folder = \"./data/intermediate/train\"\n",
    "process_folder(input_folder, output_folder)\n",
    "\n",
    "input_folder = \"./data/raw/valid\"\n",
    "output_folder = \"./data/intermediate/valid\"\n",
    "process_folder(input_folder, output_folder)"
   ]
  },
  {
   "cell_type": "code",
   "execution_count": 4,
   "metadata": {},
   "outputs": [],
   "source": [
    "input_folder = \"./data/intermediate/train\"\n",
    "output_folder = \"./data/scalling/train\"\n",
    "process_folder(input_folder, output_folder, 32)\n",
    "\n",
    "input_folder = \"./data/intermediate/valid\"\n",
    "output_folder = \"./data/scalling/valid\"\n",
    "process_folder(input_folder, output_folder, 32)"
   ]
  },
  {
   "cell_type": "markdown",
   "metadata": {},
   "source": [
    "# Jakieś miary"
   ]
  },
  {
   "cell_type": "code",
   "execution_count": 5,
   "metadata": {},
   "outputs": [],
   "source": [
    "def SNE(img1: np.ndarray, img2: np.ndarray):\n",
    "    img1_flatten, img2_flatten = img1.flatten(), img2.flatten()\n",
    "    result = 0\n",
    "    for pix1, pix2 in zip(img1_flatten, img2_flatten):\n",
    "        result += pow(pix1-pix2, 2)\n",
    "    return result\n",
    "\n",
    "def PSNR(img1: np.ndarray, img2: np.ndarray, MAX=255):\n",
    "    MSE = SNE(img1, img2) / img1.size\n",
    "    return 10 * log10(pow(MAX, 2)/MSE)\n",
    "\n",
    "def SSIM(img1: np.ndarray, img2: np.ndarray, L=255, k1=0.01, k2=0.03):\n",
    "    mean1 = np.mean(img1)\n",
    "    mean2 = np.mean(img2)\n",
    "    var1 = np.var(img1)\n",
    "    var2 = np.var(img2)\n",
    "    cov = np.cov(img1, img2)\n",
    "    c1 = (k1 * L) ** 2\n",
    "    c2 = (k2 * L) ** 2\n",
    "    return (2 * mean1 * mean2 + c1) * (2 * cov + c2) / ((pow(mean1, 2) * pow(mean2, 2) + c1) * (var1 * var2 + c2))\n",
    "\n",
    "def LPIPS(img1: np.ndarray, img2: np.ndarray): ...\n",
    "    # https://pypi.org/project/lpips/  "
   ]
  },
  {
   "cell_type": "markdown",
   "metadata": {},
   "source": [
    "# Dataset"
   ]
  },
  {
   "cell_type": "code",
   "execution_count": 6,
   "metadata": {},
   "outputs": [],
   "source": [
    "transform = Compose([\n",
    "    ToTensor() # -> magicznie zmienia 32x32x3 -> 3x32x32, ale to dobrze bo tego oczekujemy\n",
    "])"
   ]
  },
  {
   "cell_type": "code",
   "execution_count": 7,
   "metadata": {},
   "outputs": [],
   "source": [
    "class ImageSet(Dataset):\n",
    "    def __init__(self, images_folder, dest_folder='', transform=None):\n",
    "        self.folder = images_folder  # folder do obrazów  do przekształcenia (inputy)\n",
    "        self.dest = dest_folder  # folder z docelowymi obrazami (outputy)\n",
    "        self.images, self.dest_images = self.read_images()\n",
    "        self.transform = transform\n",
    "\n",
    "    def read_images(self):\n",
    "        images = []\n",
    "        dest_images = []\n",
    "        for filename in os.listdir(self.folder):\n",
    "            image_name = os.path.join(self.folder, filename)\n",
    "            img = cv2.imread(image_name)\n",
    "            images.append(img)\n",
    "\n",
    "            dest_img = cv2.imread(os.path.join(self.dest, filename))\n",
    "            dest_images.append(dest_img)\n",
    "\n",
    "        return images, dest_images\n",
    "\n",
    "    def __len__(self):\n",
    "        return len(self.images)\n",
    "    \n",
    "    def __getitem__(self, index):\n",
    "        x_image = self.images[index]\n",
    "        y_image = self.dest_images[index]\n",
    "        if self.transform:\n",
    "            x_image = self.transform(x_image)\n",
    "            y_image = self.transform(y_image)\n",
    "        return x_image, y_image"
   ]
  },
  {
   "cell_type": "code",
   "execution_count": 8,
   "metadata": {},
   "outputs": [],
   "source": [
    "train_dataset = ImageSet(\"data/scalling/train\", \"data/intermediate/train\", transform)\n",
    "valid_dataset = ImageSet(\"data/scalling/valid\", \"data/intermediate/valid\", transform)\n",
    "\n",
    "train_dataloader = DataLoader(train_dataset, batch_size=8, shuffle=True)\n"
   ]
  },
  {
   "cell_type": "markdown",
   "metadata": {},
   "source": [
    "# Model"
   ]
  },
  {
   "cell_type": "code",
   "execution_count": 9,
   "metadata": {},
   "outputs": [],
   "source": [
    "class UpscaleCNN(nn.Module):\n",
    "    def __init__(self):\n",
    "        super(UpscaleCNN, self).__init__()\n",
    "\n",
    "        # Encoder: 32x32 -> feature extraction\n",
    "        self.encoder = nn.Sequential(\n",
    "            nn.Conv2d(3, 64, kernel_size=3, stride=1, padding=1),  # 32x32 -> 32x32\n",
    "            nn.ReLU(),\n",
    "            nn.Conv2d(64, 128, kernel_size=3, stride=2, padding=1),  # 32x32 -> 16x16\n",
    "            nn.ReLU(),\n",
    "            nn.Conv2d(128, 256, kernel_size=3, stride=2, padding=1),  # 16x16 -> 8x8\n",
    "            nn.ReLU(),\n",
    "            nn.Conv2d(256, 512, kernel_size=3, stride=2, padding=1),  # 8x8 -> 4x4\n",
    "            nn.ReLU(),\n",
    "        )\n",
    "\n",
    "        # Decoder: 4x4 -> 256x256 (upscaling)\n",
    "        self.decoder = nn.Sequential(\n",
    "            nn.ConvTranspose2d(512, 256, kernel_size=3, stride=2, padding=1, output_padding=1),  # 4x4 -> 8x8\n",
    "            nn.ReLU(),\n",
    "            nn.ConvTranspose2d(256, 128, kernel_size=3, stride=2, padding=1, output_padding=1),  # 8x8 -> 16x16\n",
    "            nn.ReLU(),\n",
    "            nn.ConvTranspose2d(128, 64, kernel_size=3, stride=2, padding=1, output_padding=1),  # 16x16 -> 32x32\n",
    "            nn.ReLU(),\n",
    "            nn.ConvTranspose2d(64, 32, kernel_size=3, stride=2, padding=1, output_padding=1),  # 32x32 -> 64x64\n",
    "            nn.ReLU(),\n",
    "            nn.ConvTranspose2d(32, 16, kernel_size=3, stride=2, padding=1, output_padding=1),  # 64x64 -> 128x128\n",
    "            nn.ReLU(),\n",
    "            nn.ConvTranspose2d(16, 3, kernel_size=3, stride=2, padding=1, output_padding=1),  # 128x128 -> 256x256\n",
    "            nn.Tanh()\n",
    "        )\n",
    "\n",
    "    def forward(self, x):\n",
    "        x = self.encoder(x)\n",
    "        x = self.decoder(x)\n",
    "        return x"
   ]
  },
  {
   "cell_type": "code",
   "execution_count": 10,
   "metadata": {},
   "outputs": [],
   "source": [
    "model = UpscaleCNN()\n",
    "optimizer = optim.Adam(model.parameters(), lr=0.001)\n",
    "criterion = nn.MSELoss()"
   ]
  },
  {
   "cell_type": "markdown",
   "metadata": {},
   "source": [
    "# Pętla uczenia"
   ]
  },
  {
   "cell_type": "code",
   "execution_count": 11,
   "metadata": {},
   "outputs": [
    {
     "name": "stderr",
     "output_type": "stream",
     "text": [
      "100%|██████████| 100/100 [00:03<00:00, 30.11it/s]\n"
     ]
    },
    {
     "name": "stdout",
     "output_type": "stream",
     "text": [
      "epoch #1, loss: 0.03601284325122833\n",
      "Validation loss: 3.945333980023861\n"
     ]
    },
    {
     "name": "stderr",
     "output_type": "stream",
     "text": [
      "100%|██████████| 100/100 [00:03<00:00, 32.12it/s]\n"
     ]
    },
    {
     "name": "stdout",
     "output_type": "stream",
     "text": [
      "epoch #2, loss: 0.036181580275297165\n",
      "Validation loss: 3.6417497862130404\n"
     ]
    },
    {
     "name": "stderr",
     "output_type": "stream",
     "text": [
      "100%|██████████| 100/100 [00:03<00:00, 31.00it/s]\n"
     ]
    },
    {
     "name": "stdout",
     "output_type": "stream",
     "text": [
      "epoch #3, loss: 0.034035976976156235\n",
      "Validation loss: 3.4448329098522663\n"
     ]
    },
    {
     "name": "stderr",
     "output_type": "stream",
     "text": [
      "100%|██████████| 100/100 [00:03<00:00, 31.34it/s]\n"
     ]
    },
    {
     "name": "stdout",
     "output_type": "stream",
     "text": [
      "epoch #4, loss: 0.041576087474823\n",
      "Validation loss: 3.287787920795381\n"
     ]
    },
    {
     "name": "stderr",
     "output_type": "stream",
     "text": [
      "100%|██████████| 100/100 [00:05<00:00, 18.58it/s]\n"
     ]
    },
    {
     "name": "stdout",
     "output_type": "stream",
     "text": [
      "epoch #5, loss: 0.03325312212109566\n",
      "Validation loss: 3.2154688369482756\n"
     ]
    },
    {
     "name": "stderr",
     "output_type": "stream",
     "text": [
      "100%|██████████| 100/100 [00:03<00:00, 31.30it/s]\n"
     ]
    },
    {
     "name": "stdout",
     "output_type": "stream",
     "text": [
      "epoch #6, loss: 0.03135454282164574\n",
      "Validation loss: 3.1028468664735556\n"
     ]
    },
    {
     "name": "stderr",
     "output_type": "stream",
     "text": [
      "100%|██████████| 100/100 [00:03<00:00, 28.34it/s]\n"
     ]
    },
    {
     "name": "stdout",
     "output_type": "stream",
     "text": [
      "epoch #7, loss: 0.02817022241652012\n",
      "Validation loss: 3.053606296889484\n"
     ]
    },
    {
     "name": "stderr",
     "output_type": "stream",
     "text": [
      "100%|██████████| 100/100 [00:03<00:00, 26.09it/s]\n"
     ]
    },
    {
     "name": "stdout",
     "output_type": "stream",
     "text": [
      "epoch #8, loss: 0.03844064101576805\n",
      "Validation loss: 3.027410436887294\n"
     ]
    },
    {
     "name": "stderr",
     "output_type": "stream",
     "text": [
      "100%|██████████| 100/100 [00:03<00:00, 26.68it/s]\n"
     ]
    },
    {
     "name": "stdout",
     "output_type": "stream",
     "text": [
      "epoch #9, loss: 0.02300971746444702\n",
      "Validation loss: 3.0060737296007574\n"
     ]
    },
    {
     "name": "stderr",
     "output_type": "stream",
     "text": [
      "100%|██████████| 100/100 [00:03<00:00, 27.13it/s]\n"
     ]
    },
    {
     "name": "stdout",
     "output_type": "stream",
     "text": [
      "epoch #10, loss: 0.03634272888302803\n",
      "Validation loss: 3.0282291197218\n"
     ]
    }
   ],
   "source": [
    "import tqdm\n",
    "\n",
    "num_epochs = 10\n",
    "\n",
    "losses = {\"train\":[],\"val\":[]}\n",
    "\n",
    "for epoch in range(num_epochs):\n",
    "    model.train()\n",
    "    for x, y in tqdm.tqdm(train_dataloader):\n",
    "        optimizer.zero_grad() \n",
    "        out = model(x)\n",
    "        \n",
    "        loss = criterion(out, y)\n",
    "\n",
    "        loss.backward()\n",
    "        optimizer.step()\n",
    "    \n",
    "    model.eval()\n",
    "    print(f\"epoch #{epoch+1}, loss: {loss}\")\n",
    "    losses[\"train\"].append(loss)\n",
    "    with torch.no_grad():\n",
    "        total_loss = 0.0\n",
    "        for x, y in valid_dataset:\n",
    "            out = model(x)\n",
    "\n",
    "            loss = criterion(out, y)\n",
    "\n",
    "\n",
    "            total_loss += loss.item()\n",
    "        print(\"Validation loss:\",total_loss)\n",
    "    losses[\"val\"].append(total_loss)"
   ]
  },
  {
   "cell_type": "code",
   "execution_count": 16,
   "metadata": {},
   "outputs": [
    {
     "data": {
      "image/png": "[encoded data removed]",
      "text/plain": [
       "<Figure size 640x480 with 1 Axes>"
      ]
     },
     "metadata": {},
     "output_type": "display_data"
    }
   ],
   "source": [
    "x = range(num_epochs)\n",
    "y = losses['val']\n",
    "\n",
    "plt.plot(x, y)\n",
    "plt.ylabel(\"loss\")\n",
    "plt.xlabel(\"epoch\")\n",
    "plt.title(\"loss on valid\")\n",
    "plt.show()"
   ]
  }
 ],
 "metadata": {
  "kernelspec": {
   "display_name": "Python 3",
   "language": "python",
   "name": "python3"
  },
  "language_info": {
   "codemirror_mode": {
    "name": "ipython",
    "version": 3
   },
   "file_extension": ".py",
   "mimetype": "text/x-python",
   "name": "python",
   "nbconvert_exporter": "python",
   "pygments_lexer": "ipython3",
   "version": "3.12.3"
  }
 },
 "nbformat": 4,
 "nbformat_minor": 2
}
