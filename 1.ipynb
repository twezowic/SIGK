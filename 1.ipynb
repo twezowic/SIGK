{
 "cells": [
  {
   "cell_type": "code",
   "execution_count": null,
   "metadata": {},
   "outputs": [],
   "source": [
    "import numpy as np\n",
    "from math import log10"
   ]
  },
  {
   "cell_type": "code",
   "execution_count": null,
   "metadata": {},
   "outputs": [
    {
     "ename": "SyntaxError",
     "evalue": "incomplete input (3674485083.py, line 23)",
     "output_type": "error",
     "traceback": [
      "\u001b[0;36m  Cell \u001b[0;32mIn[2], line 23\u001b[0;36m\u001b[0m\n\u001b[0;31m    # https://pypi.org/project/lpips/\u001b[0m\n\u001b[0m                                       ^\u001b[0m\n\u001b[0;31mSyntaxError\u001b[0m\u001b[0;31m:\u001b[0m incomplete input\n"
     ]
    }
   ],
   "source": [
    "def SNE(img1: np.ndarray, img2: np.ndarray):\n",
    "    img1_flatten, img2_flatten = img1.flatten(), img2.flatten()\n",
    "    result = 0\n",
    "    for pix1, pix2 in zip(img1_flatten, img2_flatten):\n",
    "        result += pow(pix1-pix2, 2)\n",
    "    return result\n",
    "\n",
    "def PSNR(img1: np.ndarray, img2: np.ndarray, MAX=255):\n",
    "    MSE = SNE(img1, img2) / img1.size\n",
    "    return 10 * log10(pow(MAX, 2)/MSE)\n",
    "\n",
    "def SSIM(img1: np.ndarray, img2: np.ndarray, L=255, k1=0.01, k2=0.03):\n",
    "    mean1 = np.mean(img1)\n",
    "    mean2 = np.mean(img2)\n",
    "    var1 = np.var(img1)\n",
    "    var2 = np.var(img2)\n",
    "    cov = np.cov(img1, img2)\n",
    "    c1 = (k1 * L) ** 2\n",
    "    c2 = (k2 * L) ** 2\n",
    "    return (2 * mean1 * mean2 + c1) * (2 * cov + c2) / ((pow(mean1, 2) * pow(mean2, 2) + c1) * (var1 * var2 + c2))\n",
    "\n",
    "def LPIPS(img1: np.ndarray, img2: np.ndarray): ...\n",
    "    # https://pypi.org/project/lpips/  "
   ]
  }
 ],
 "metadata": {
  "kernelspec": {
   "display_name": "Python 3",
   "language": "python",
   "name": "python3"
  },
  "language_info": {
   "codemirror_mode": {
    "name": "ipython",
    "version": 3
   },
   "file_extension": ".py",
   "mimetype": "text/x-python",
   "name": "python",
   "nbconvert_exporter": "python",
   "pygments_lexer": "ipython3",
   "version": "3.12.3"
  }
 },
 "nbformat": 4,
 "nbformat_minor": 2
}
