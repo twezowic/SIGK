{
 "cells": [
  {
   "cell_type": "code",
   "execution_count": 61,
   "id": "0ae9c4e6",
   "metadata": {},
   "outputs": [],
   "source": [
    "import pandas as pd\n",
    "import numpy as np\n",
    "from PIL import Image\n",
    "from torch.utils.data import Dataset, DataLoader\n",
    "import torch\n",
    "import torch.optim as optim\n",
    "import os\n",
    "import torch.nn as nn\n",
    "import torchvision.transforms as transforms\n",
    "import matplotlib.pyplot as plt"
   ]
  },
  {
   "cell_type": "code",
   "execution_count": 62,
   "id": "dbeb7049",
   "metadata": {},
   "outputs": [],
   "source": [
    "device = torch.device(\"cuda\" if torch.cuda.is_available() else \"cpu\")"
   ]
  },
  {
   "cell_type": "markdown",
   "id": "e2eb3600",
   "metadata": {},
   "source": [
    "## Dataset"
   ]
  },
  {
   "cell_type": "code",
   "execution_count": 63,
   "id": "e3c2b11a",
   "metadata": {},
   "outputs": [],
   "source": [
    "class SphereDataset(Dataset):\n",
    "    def __init__(self, csv_path, images_dir, transform=None):\n",
    "        self.data: pd.DataFrame = pd.read_csv(csv_path)\n",
    "        self.images_dir = images_dir\n",
    "        self.transform = transform\n",
    "        self.inputs = None\n",
    "        self.images = None\n",
    "        self.prepare_data()\n",
    "\n",
    "    def prepare_data(self):\n",
    "        inputs = []\n",
    "        images = []\n",
    "        for idx in range(len(self.data)):\n",
    "            row = self.data.iloc[idx]\n",
    "\n",
    "            model_translation = np.array(eval(row['model_translation']), dtype=np.float32) / 20.0\n",
    "            material_diffuse = np.array(eval(row['material_diffuse']), dtype=np.float32)\n",
    "            material_shininess = float(row['material_shininess']) / 20.0\n",
    "            light_position = np.array(eval(row['light_position']), dtype=np.float32) / 20.0\n",
    "\n",
    "            input_vec = np.concatenate([model_translation, material_diffuse, [material_shininess], light_position])\n",
    "            inputs.append(input_vec)\n",
    "\n",
    "            img_path = os.path.join(self.images_dir, f\"image_{int(row['frame']):04}.png\")\n",
    "            image = Image.open(img_path).convert(\"RGB\").resize((128, 128))\n",
    "\n",
    "            if self.transform:\n",
    "                image = self.transform(image)\n",
    "\n",
    "            images.append(image)\n",
    "\n",
    "        self.inputs = torch.tensor(np.array(inputs), dtype=torch.float32)\n",
    "        self.images = torch.stack(images)\n",
    "\n",
    "\n",
    "    def __len__(self):\n",
    "        return len(self.data)\n",
    "\n",
    "    def __getitem__(self, idx):\n",
    "        return self.inputs[idx], self.images[idx]"
   ]
  },
  {
   "cell_type": "code",
   "execution_count": 64,
   "id": "93215f13",
   "metadata": {},
   "outputs": [],
   "source": [
    "transform = transforms.Compose([\n",
    "    transforms.ToTensor(),\n",
    "    transforms.Normalize(mean=[.5, .5, .5], std=[.5, .5, .5])\n",
    "])\n",
    "\n",
    "dataset = SphereDataset(\"src/data.csv\", \"output\", transform=transform)"
   ]
  },
  {
   "cell_type": "code",
   "execution_count": 65,
   "id": "9019216f",
   "metadata": {},
   "outputs": [
    {
     "data": {
      "text/plain": [
       "(tensor([-0.2500,  0.3000, -0.3500,  0.7098,  0.5725,  0.7765,  0.5000,  0.5500,\n",
       "         -1.0000,  0.0500]),\n",
       " tensor([[[-1., -1., -1.,  ..., -1., -1., -1.],\n",
       "          [-1., -1., -1.,  ..., -1., -1., -1.],\n",
       "          [-1., -1., -1.,  ..., -1., -1., -1.],\n",
       "          ...,\n",
       "          [-1., -1., -1.,  ..., -1., -1., -1.],\n",
       "          [-1., -1., -1.,  ..., -1., -1., -1.],\n",
       "          [-1., -1., -1.,  ..., -1., -1., -1.]],\n",
       " \n",
       "         [[-1., -1., -1.,  ..., -1., -1., -1.],\n",
       "          [-1., -1., -1.,  ..., -1., -1., -1.],\n",
       "          [-1., -1., -1.,  ..., -1., -1., -1.],\n",
       "          ...,\n",
       "          [-1., -1., -1.,  ..., -1., -1., -1.],\n",
       "          [-1., -1., -1.,  ..., -1., -1., -1.],\n",
       "          [-1., -1., -1.,  ..., -1., -1., -1.]],\n",
       " \n",
       "         [[-1., -1., -1.,  ..., -1., -1., -1.],\n",
       "          [-1., -1., -1.,  ..., -1., -1., -1.],\n",
       "          [-1., -1., -1.,  ..., -1., -1., -1.],\n",
       "          ...,\n",
       "          [-1., -1., -1.,  ..., -1., -1., -1.],\n",
       "          [-1., -1., -1.,  ..., -1., -1., -1.],\n",
       "          [-1., -1., -1.,  ..., -1., -1., -1.]]]))"
      ]
     },
     "execution_count": 65,
     "metadata": {},
     "output_type": "execute_result"
    }
   ],
   "source": [
    "dataset[0]"
   ]
  },
  {
   "cell_type": "markdown",
   "id": "e42b0a53",
   "metadata": {},
   "source": [
    "## GAN"
   ]
  },
  {
   "cell_type": "code",
   "execution_count": 106,
   "id": "488da19d",
   "metadata": {},
   "outputs": [],
   "source": [
    "class Generator(nn.Module):\n",
    "    def __init__(self, input_dim=10, feature_map=64, img_size=128):\n",
    "        super().__init__()\n",
    "        self.img_size = img_size\n",
    "        self.fc = nn.Sequential(\n",
    "            nn.Linear(input_dim, feature_map * 8 * 8 * 8),\n",
    "            nn.ReLU()\n",
    "        )\n",
    "        self.deconv = nn.Sequential(\n",
    "            nn.ConvTranspose2d(feature_map * 8, feature_map * 4, 4, 2, 1),  # 16x16\n",
    "            nn.BatchNorm2d(feature_map * 4),\n",
    "            nn.ReLU(),\n",
    "            nn.ConvTranspose2d(feature_map * 4, feature_map * 2, 4, 2, 1),  # 32x32\n",
    "            nn.BatchNorm2d(feature_map * 2),\n",
    "            nn.ReLU(),\n",
    "            nn.ConvTranspose2d(feature_map * 2, feature_map, 4, 2, 1),      # 64x64\n",
    "            nn.BatchNorm2d(feature_map),\n",
    "            nn.ReLU(),\n",
    "            nn.ConvTranspose2d(feature_map, 3, 4, 2, 1),                    # 128x128\n",
    "            nn.Tanh()\n",
    "        )\n",
    "\n",
    "    def forward(self, x):\n",
    "        x = self.fc(x)  # [B, feat*8*8*8]\n",
    "        x = x.view(-1, 512, 8, 8)\n",
    "        return self.deconv(x)"
   ]
  },
  {
   "cell_type": "code",
   "execution_count": 107,
   "id": "219b3ce2",
   "metadata": {},
   "outputs": [],
   "source": [
    "class Discriminator(nn.Module):\n",
    "    def __init__(self, img_channels=3):\n",
    "        super().__init__()\n",
    "        self.model = nn.Sequential(\n",
    "            nn.Conv2d(img_channels, 64, 4, 2, 1),  # 64x64\n",
    "            nn.LeakyReLU(0.2),\n",
    "            nn.Conv2d(64, 128, 4, 2, 1),  # 32x32\n",
    "            nn.BatchNorm2d(128),\n",
    "            nn.LeakyReLU(0.2),\n",
    "            nn.Conv2d(128, 256, 4, 2, 1),  # 16x16\n",
    "            nn.BatchNorm2d(256),\n",
    "            nn.LeakyReLU(0.2),\n",
    "            nn.Conv2d(256, 512, 4, 2, 1),  # 8x8\n",
    "            nn.BatchNorm2d(512),\n",
    "            nn.LeakyReLU(0.2),\n",
    "            nn.Flatten(),\n",
    "            nn.Linear(512 * 8 * 8, 1),\n",
    "            nn.Sigmoid()\n",
    "        )\n",
    "\n",
    "    def forward(self, x):\n",
    "        return self.model(x)"
   ]
  },
  {
   "cell_type": "markdown",
   "id": "e6ac14b8",
   "metadata": {},
   "source": [
    "## Trening"
   ]
  },
  {
   "cell_type": "code",
   "execution_count": 181,
   "id": "73d15999",
   "metadata": {},
   "outputs": [],
   "source": [
    "generator = Generator().to(device)\n",
    "discriminator = Discriminator().to(device)"
   ]
  },
  {
   "cell_type": "code",
   "execution_count": 182,
   "id": "ea3efb65",
   "metadata": {},
   "outputs": [],
   "source": [
    "loader = DataLoader(dataset, batch_size=16, shuffle=True)\n",
    "\n",
    "criterion = nn.BCELoss()\n",
    "mse_loss = nn.MSELoss()\n",
    "optimizer_G = optim.Adam(generator.parameters(), lr=0.0002, betas=[0.5, 0.999])\n",
    "optimizer_D = optim.Adam(discriminator.parameters(), lr=0.00005, betas=[0.5, 0.999])"
   ]
  },
  {
   "cell_type": "code",
   "execution_count": 183,
   "id": "a6cf1033",
   "metadata": {},
   "outputs": [
    {
     "name": "stderr",
     "output_type": "stream",
     "text": [
      "Epoch 1/30: 100%|██████████| 125/125 [00:22<00:00,  5.59it/s]\n"
     ]
    },
    {
     "name": "stdout",
     "output_type": "stream",
     "text": [
      "[0] G_loss: 3975.7745 | D_loss: 57.5271\n"
     ]
    },
    {
     "name": "stderr",
     "output_type": "stream",
     "text": [
      "Epoch 2/30: 100%|██████████| 125/125 [00:22<00:00,  5.62it/s]\n"
     ]
    },
    {
     "name": "stdout",
     "output_type": "stream",
     "text": [
      "[1] G_loss: 1686.9096 | D_loss: 58.4686\n"
     ]
    },
    {
     "name": "stderr",
     "output_type": "stream",
     "text": [
      "Epoch 3/30: 100%|██████████| 125/125 [00:21<00:00,  5.86it/s]\n"
     ]
    },
    {
     "name": "stdout",
     "output_type": "stream",
     "text": [
      "[2] G_loss: 347.8464 | D_loss: 52.3280\n"
     ]
    },
    {
     "name": "stderr",
     "output_type": "stream",
     "text": [
      "Epoch 4/30: 100%|██████████| 125/125 [00:22<00:00,  5.62it/s]\n"
     ]
    },
    {
     "name": "stdout",
     "output_type": "stream",
     "text": [
      "[3] G_loss: 343.6637 | D_loss: 55.5061\n"
     ]
    },
    {
     "name": "stderr",
     "output_type": "stream",
     "text": [
      "Epoch 5/30: 100%|██████████| 125/125 [00:22<00:00,  5.61it/s]\n"
     ]
    },
    {
     "name": "stdout",
     "output_type": "stream",
     "text": [
      "[4] G_loss: 320.5883 | D_loss: 55.9403\n"
     ]
    },
    {
     "name": "stderr",
     "output_type": "stream",
     "text": [
      "Epoch 6/30: 100%|██████████| 125/125 [00:21<00:00,  5.86it/s]\n"
     ]
    },
    {
     "name": "stdout",
     "output_type": "stream",
     "text": [
      "[5] G_loss: 333.2621 | D_loss: 54.6283\n"
     ]
    },
    {
     "name": "stderr",
     "output_type": "stream",
     "text": [
      "Epoch 7/30: 100%|██████████| 125/125 [00:22<00:00,  5.62it/s]\n"
     ]
    },
    {
     "name": "stdout",
     "output_type": "stream",
     "text": [
      "[6] G_loss: 360.7590 | D_loss: 51.3836\n"
     ]
    },
    {
     "name": "stderr",
     "output_type": "stream",
     "text": [
      "Epoch 8/30: 100%|██████████| 125/125 [00:22<00:00,  5.62it/s]\n"
     ]
    },
    {
     "name": "stdout",
     "output_type": "stream",
     "text": [
      "[7] G_loss: 347.0193 | D_loss: 51.3990\n"
     ]
    },
    {
     "name": "stderr",
     "output_type": "stream",
     "text": [
      "Epoch 9/30: 100%|██████████| 125/125 [00:21<00:00,  5.90it/s]\n"
     ]
    },
    {
     "name": "stdout",
     "output_type": "stream",
     "text": [
      "[8] G_loss: 348.4504 | D_loss: 48.3700\n"
     ]
    },
    {
     "name": "stderr",
     "output_type": "stream",
     "text": [
      "Epoch 10/30: 100%|██████████| 125/125 [00:22<00:00,  5.65it/s]\n"
     ]
    },
    {
     "name": "stdout",
     "output_type": "stream",
     "text": [
      "[9] G_loss: 348.9529 | D_loss: 47.3333\n"
     ]
    },
    {
     "name": "stderr",
     "output_type": "stream",
     "text": [
      "Epoch 11/30: 100%|██████████| 125/125 [00:22<00:00,  5.66it/s]\n"
     ]
    },
    {
     "name": "stdout",
     "output_type": "stream",
     "text": [
      "[10] G_loss: 381.1154 | D_loss: 47.3293\n"
     ]
    },
    {
     "name": "stderr",
     "output_type": "stream",
     "text": [
      "Epoch 12/30: 100%|██████████| 125/125 [00:21<00:00,  5.88it/s]\n"
     ]
    },
    {
     "name": "stdout",
     "output_type": "stream",
     "text": [
      "[11] G_loss: 352.3502 | D_loss: 47.2750\n"
     ]
    },
    {
     "name": "stderr",
     "output_type": "stream",
     "text": [
      "Epoch 13/30: 100%|██████████| 125/125 [00:22<00:00,  5.65it/s]\n"
     ]
    },
    {
     "name": "stdout",
     "output_type": "stream",
     "text": [
      "[12] G_loss: 342.2211 | D_loss: 47.7314\n"
     ]
    },
    {
     "name": "stderr",
     "output_type": "stream",
     "text": [
      "Epoch 14/30: 100%|██████████| 125/125 [00:22<00:00,  5.62it/s]\n"
     ]
    },
    {
     "name": "stdout",
     "output_type": "stream",
     "text": [
      "[13] G_loss: 355.7206 | D_loss: 48.8968\n"
     ]
    },
    {
     "name": "stderr",
     "output_type": "stream",
     "text": [
      "Epoch 15/30: 100%|██████████| 125/125 [00:21<00:00,  5.90it/s]\n"
     ]
    },
    {
     "name": "stdout",
     "output_type": "stream",
     "text": [
      "[14] G_loss: 338.5125 | D_loss: 48.0225\n"
     ]
    },
    {
     "name": "stderr",
     "output_type": "stream",
     "text": [
      "Epoch 16/30: 100%|██████████| 125/125 [00:22<00:00,  5.63it/s]\n"
     ]
    },
    {
     "name": "stdout",
     "output_type": "stream",
     "text": [
      "[15] G_loss: 347.2685 | D_loss: 48.7708\n"
     ]
    },
    {
     "name": "stderr",
     "output_type": "stream",
     "text": [
      "Epoch 17/30: 100%|██████████| 125/125 [00:22<00:00,  5.65it/s]\n"
     ]
    },
    {
     "name": "stdout",
     "output_type": "stream",
     "text": [
      "[16] G_loss: 362.3780 | D_loss: 54.1262\n"
     ]
    },
    {
     "name": "stderr",
     "output_type": "stream",
     "text": [
      "Epoch 18/30: 100%|██████████| 125/125 [00:21<00:00,  5.89it/s]\n"
     ]
    },
    {
     "name": "stdout",
     "output_type": "stream",
     "text": [
      "[17] G_loss: 346.5003 | D_loss: 53.1043\n"
     ]
    },
    {
     "name": "stderr",
     "output_type": "stream",
     "text": [
      "Epoch 19/30: 100%|██████████| 125/125 [00:22<00:00,  5.64it/s]\n"
     ]
    },
    {
     "name": "stdout",
     "output_type": "stream",
     "text": [
      "[18] G_loss: 347.9626 | D_loss: 52.1518\n"
     ]
    },
    {
     "name": "stderr",
     "output_type": "stream",
     "text": [
      "Epoch 20/30: 100%|██████████| 125/125 [00:22<00:00,  5.63it/s]\n"
     ]
    },
    {
     "name": "stdout",
     "output_type": "stream",
     "text": [
      "[19] G_loss: 343.3791 | D_loss: 51.6135\n"
     ]
    },
    {
     "name": "stderr",
     "output_type": "stream",
     "text": [
      "Epoch 21/30: 100%|██████████| 125/125 [00:21<00:00,  5.88it/s]\n"
     ]
    },
    {
     "name": "stdout",
     "output_type": "stream",
     "text": [
      "[20] G_loss: 332.8550 | D_loss: 53.4472\n"
     ]
    },
    {
     "name": "stderr",
     "output_type": "stream",
     "text": [
      "Epoch 22/30: 100%|██████████| 125/125 [00:22<00:00,  5.65it/s]\n"
     ]
    },
    {
     "name": "stdout",
     "output_type": "stream",
     "text": [
      "[21] G_loss: 333.7790 | D_loss: 53.1398\n"
     ]
    },
    {
     "name": "stderr",
     "output_type": "stream",
     "text": [
      "Epoch 23/30: 100%|██████████| 125/125 [00:22<00:00,  5.63it/s]\n"
     ]
    },
    {
     "name": "stdout",
     "output_type": "stream",
     "text": [
      "[22] G_loss: 344.8084 | D_loss: 50.6303\n"
     ]
    },
    {
     "name": "stderr",
     "output_type": "stream",
     "text": [
      "Epoch 24/30: 100%|██████████| 125/125 [00:21<00:00,  5.87it/s]\n"
     ]
    },
    {
     "name": "stdout",
     "output_type": "stream",
     "text": [
      "[23] G_loss: 330.3676 | D_loss: 54.9942\n"
     ]
    },
    {
     "name": "stderr",
     "output_type": "stream",
     "text": [
      "Epoch 25/30: 100%|██████████| 125/125 [00:22<00:00,  5.64it/s]\n"
     ]
    },
    {
     "name": "stdout",
     "output_type": "stream",
     "text": [
      "[24] G_loss: 330.2744 | D_loss: 53.4055\n"
     ]
    },
    {
     "name": "stderr",
     "output_type": "stream",
     "text": [
      "Epoch 26/30: 100%|██████████| 125/125 [00:22<00:00,  5.62it/s]\n"
     ]
    },
    {
     "name": "stdout",
     "output_type": "stream",
     "text": [
      "[25] G_loss: 337.6240 | D_loss: 52.5834\n"
     ]
    },
    {
     "name": "stderr",
     "output_type": "stream",
     "text": [
      "Epoch 27/30: 100%|██████████| 125/125 [00:21<00:00,  5.87it/s]\n"
     ]
    },
    {
     "name": "stdout",
     "output_type": "stream",
     "text": [
      "[26] G_loss: 332.6913 | D_loss: 55.2294\n"
     ]
    },
    {
     "name": "stderr",
     "output_type": "stream",
     "text": [
      "Epoch 28/30: 100%|██████████| 125/125 [00:22<00:00,  5.62it/s]\n"
     ]
    },
    {
     "name": "stdout",
     "output_type": "stream",
     "text": [
      "[27] G_loss: 341.1714 | D_loss: 55.0680\n"
     ]
    },
    {
     "name": "stderr",
     "output_type": "stream",
     "text": [
      "Epoch 29/30: 100%|██████████| 125/125 [00:22<00:00,  5.62it/s]\n"
     ]
    },
    {
     "name": "stdout",
     "output_type": "stream",
     "text": [
      "[28] G_loss: 340.5324 | D_loss: 51.0831\n"
     ]
    },
    {
     "name": "stderr",
     "output_type": "stream",
     "text": [
      "Epoch 30/30: 100%|██████████| 125/125 [00:21<00:00,  5.86it/s]"
     ]
    },
    {
     "name": "stdout",
     "output_type": "stream",
     "text": [
      "[29] G_loss: 329.8586 | D_loss: 54.8336\n"
     ]
    },
    {
     "name": "stderr",
     "output_type": "stream",
     "text": [
      "\n"
     ]
    }
   ],
   "source": [
    "from tqdm import tqdm\n",
    "\n",
    "EPOCHS = 30\n",
    "lambda_mse = 100\n",
    "\n",
    "for epoch in range(EPOCHS):\n",
    "    g_total_loss, d_total_loss = 0.0, 0.0\n",
    "\n",
    "    for inputs, real_imgs in tqdm(loader, desc=f\"Epoch {epoch+1}/{EPOCHS}\"):\n",
    "        inputs = inputs.to(device)\n",
    "        real_imgs = real_imgs.to(device)\n",
    "\n",
    "        valid = torch.ones(inputs.size(0), 1).to(device) * 0.9\n",
    "        fake = torch.zeros(inputs.size(0), 1).to(device) + 0.1\n",
    "\n",
    "        # === Discriminator ===\n",
    "        optimizer_D.zero_grad()\n",
    "        with torch.no_grad():\n",
    "            gen_imgs = generator(inputs)\n",
    "\n",
    "        real_loss = criterion(discriminator(real_imgs), valid)\n",
    "        fake_loss = criterion(discriminator(gen_imgs.detach()), fake)\n",
    "        d_loss = (real_loss + fake_loss) / 2\n",
    "        d_loss.backward()\n",
    "        optimizer_D.step()\n",
    "\n",
    "        # === Generator ===\n",
    "        optimizer_G.zero_grad()\n",
    "        gen_imgs = generator(inputs)\n",
    "        adv_loss = criterion(discriminator(gen_imgs), valid)\n",
    "        rec_loss = mse_loss(gen_imgs, real_imgs)\n",
    "        g_loss = adv_loss + lambda_mse * rec_loss\n",
    "        g_loss.backward()\n",
    "        optimizer_G.step()\n",
    "\n",
    "        g_total_loss += g_loss.item()\n",
    "        d_total_loss += d_loss.item()\n",
    "\n",
    "    print(f\"[{epoch}] G_loss: {g_total_loss:.4f} | D_loss: {d_total_loss:.4f}\")"
   ]
  },
  {
   "cell_type": "code",
   "execution_count": 184,
   "id": "ed69eb37",
   "metadata": {},
   "outputs": [],
   "source": [
    "torch.save(generator.state_dict(), \"generator1.pth\")\n",
    "torch.save(discriminator.state_dict(), \"discriminator1.pth\")"
   ]
  },
  {
   "cell_type": "code",
   "execution_count": null,
   "id": "a91f4a9f",
   "metadata": {},
   "outputs": [],
   "source": [
    "# generator = Generator().to(device)\n",
    "# discriminator = Discriminator().to(device)\n",
    "\n",
    "# generator.load_state_dict(torch.load(\"generator.pth\"))\n",
    "# discriminator.load_state_dict(torch.load(\"discriminator.pth\"))"
   ]
  },
  {
   "cell_type": "code",
   "execution_count": 185,
   "id": "0b9075d4",
   "metadata": {},
   "outputs": [],
   "source": [
    "def generate_random_input():\n",
    "    model_translation = np.random.uniform(-20, 20, 3) / 20.0\n",
    "    material_diffuse = np.random.uniform(0, 255, 3) / 255.0\n",
    "    material_shininess = np.random.uniform(3, 20, 1) / 20.0\n",
    "    light_position = np.random.uniform(-20, 20, 3) / 20.0\n",
    "    input_vec = np.concatenate([model_translation, material_diffuse, material_shininess, light_position]).astype(np.float32)\n",
    "    return torch.tensor(input_vec)\n",
    "\n",
    "\n",
    "def denormalize(img: torch.Tensor):\n",
    "    return (img + 1) / 2"
   ]
  },
  {
   "cell_type": "code",
   "execution_count": 204,
   "id": "d69d907c",
   "metadata": {},
   "outputs": [
    {
     "name": "stdout",
     "output_type": "stream",
     "text": [
      "tensor([-0.6500,  0.1000, -0.5500,  0.3725,  0.8275,  0.9451,  0.7000,  0.5500,\n",
      "        -0.5000,  0.6000])\n"
     ]
    },
    {
     "data": {
      "text/plain": [
       "(np.float64(-0.5), np.float64(127.5), np.float64(127.5), np.float64(-0.5))"
      ]
     },
     "execution_count": 204,
     "metadata": {},
     "output_type": "execute_result"
    },
    {
     "data": {
      "image/png": "[encoded data removed]",
      "text/plain": [
       "<Figure size 800x1600 with 2 Axes>"
      ]
     },
     "metadata": {},
     "output_type": "display_data"
    }
   ],
   "source": [
    "input, img = dataset[90]\n",
    "print(input)\n",
    "fig, axes = plt.subplots(1, 2, figsize=(8, 16))\n",
    "\n",
    "generated_img = generator(input.to(device).unsqueeze(0))\n",
    "generated_img = denormalize(generated_img.squeeze(0))\n",
    "img_np = generated_img.cpu().detach().numpy().transpose(1, 2, 0)\n",
    "axes[0].imshow(img_np)\n",
    "axes[0].axis('off')\n",
    "\n",
    "\n",
    "axes[1].imshow(denormalize(img.cpu().detach().numpy().transpose(1, 2, 0)))\n",
    "axes[1].axis('off')"
   ]
  },
  {
   "cell_type": "code",
   "execution_count": 199,
   "id": "f4a2ded4",
   "metadata": {},
   "outputs": [
    {
     "name": "stdout",
     "output_type": "stream",
     "text": [
      "tensor([-0.3468,  0.6428,  0.8490,  0.7769,  0.5823,  0.1120,  0.8950,  0.3572,\n",
      "        -0.4826,  0.2236])\n"
     ]
    },
    {
     "data": {
      "image/png": "[encoded data removed]",
      "text/plain": [
       "<Figure size 640x480 with 1 Axes>"
      ]
     },
     "metadata": {},
     "output_type": "display_data"
    }
   ],
   "source": [
    "input_tensor = generate_random_input()\n",
    "# input_tensor = torch.Tensor([-0.1, 0.3, -0.1, 0.7, 0.5, 0.7, 1.0, 0.2, -0.2, 0.1])\n",
    "print(input_tensor)\n",
    "\n",
    "with torch.no_grad():\n",
    "    generated_img = generator(input_tensor.to(device).unsqueeze(0))\n",
    "    generated_img = denormalize(generated_img.squeeze(0))\n",
    "\n",
    "img_np = generated_img.cpu().detach().numpy().transpose(1, 2, 0)\n",
    "\n",
    "plt.imshow(img_np)\n",
    "plt.axis('off')\n",
    "plt.show()"
   ]
  }
 ],
 "metadata": {
  "kernelspec": {
   "display_name": "Python 3",
   "language": "python",
   "name": "python3"
  },
  "language_info": {
   "codemirror_mode": {
    "name": "ipython",
    "version": 3
   },
   "file_extension": ".py",
   "mimetype": "text/x-python",
   "name": "python",
   "nbconvert_exporter": "python",
   "pygments_lexer": "ipython3",
   "version": "3.12.3"
  }
 },
 "nbformat": 4,
 "nbformat_minor": 5
}
